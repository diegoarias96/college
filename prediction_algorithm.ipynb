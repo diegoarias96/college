{
 "cells": [
  {
   "attachments": {},
   "cell_type": "markdown",
   "metadata": {},
   "source": [
    "# Algoritmos de Predicción"
   ]
  },
  {
   "attachments": {},
   "cell_type": "markdown",
   "metadata": {},
   "source": [
    "Importación de librerías"
   ]
  },
  {
   "cell_type": "code",
   "execution_count": 1,
   "metadata": {},
   "outputs": [],
   "source": [
    "import pandas as pd\n",
    "import numpy as np\n",
    "import seaborn as sns\n",
    "import matplotlib.pyplot as plt\n",
    "import time\n",
    "from sklearn.metrics import accuracy_score,recall_score,f1_score,precision_score,classification_report, confusion_matrix"
   ]
  },
  {
   "attachments": {},
   "cell_type": "markdown",
   "metadata": {},
   "source": [
    "Carga de la data:"
   ]
  },
  {
   "cell_type": "code",
   "execution_count": 2,
   "metadata": {},
   "outputs": [],
   "source": [
    "df1 = pd.read_csv('df1_3.csv', header=0)\n",
    "df2 = pd.read_csv('df2_3.csv', header=0)"
   ]
  },
  {
   "attachments": {},
   "cell_type": "markdown",
   "metadata": {},
   "source": [
    "Los algoritmos de predicción utilizados serán:\n",
    "* Random Forest\n",
    "* Logistic Regression\n",
    "* KNN\n",
    "* AdaBoost\n",
    "* XGBoost\n",
    "* C5.0\n",
    "* Support Vector Machine"
   ]
  },
  {
   "cell_type": "code",
   "execution_count": 3,
   "metadata": {},
   "outputs": [
    {
     "name": "stdout",
     "output_type": "stream",
     "text": [
      "Dimensiones de X_train: (60000, 162)\n",
      "Dimensiones de X_test: (16000, 162)\n",
      "Dimensiones de y_train: (60000,)\n",
      "Dimensiones de y_test: (16000,)\n"
     ]
    }
   ],
   "source": [
    "# División de los conjuntos de datos\n",
    "X_train = df1.drop(\"class\", axis=1)\n",
    "X_test = df2.drop(\"class\", axis=1)\n",
    "y_train = df1[\"class\"]\n",
    "y_test = df2[\"class\"]\n",
    "\n",
    "# Verificar las dimensiones de los conjuntos de datos\n",
    "print(\"Dimensiones de X_train:\", X_train.shape)\n",
    "print(\"Dimensiones de X_test:\", X_test.shape)\n",
    "print(\"Dimensiones de y_train:\", y_train.shape)\n",
    "print(\"Dimensiones de y_test:\", y_test.shape)"
   ]
  },
  {
   "cell_type": "code",
   "execution_count": 4,
   "metadata": {},
   "outputs": [
    {
     "name": "stdout",
     "output_type": "stream",
     "text": [
      "All Models Imported\n",
      "Models stored in dataframe called classifiers\n"
     ]
    }
   ],
   "source": [
    "classifier=[]\n",
    "imported_as=[]\n",
    "\n",
    "#ADA\n",
    "from sklearn.ensemble import AdaBoostClassifier\n",
    "ada = AdaBoostClassifier()\n",
    "classifier.append('Ada Boost')\n",
    "imported_as.append('ada')\n",
    "\n",
    "#XGB\n",
    "import xgboost as xgb\n",
    "from xgboost import XGBClassifier\n",
    "ratio = len(y_train[y_train == 0]) / len(y_train[y_train == 1])\n",
    "xgb_params = {\n",
    "    'max_depth': 6,\n",
    "    'learning_rate': 0.05, # eta\n",
    "    'n_estimators': 398,\n",
    "    'subsample': 0.6, # subsample\n",
    "    'colsample_bytree': 1, # colsample_bytree\n",
    "    'reg_lambda': 1.0, # lambda\n",
    "    'objective': 'binary:logistic',\n",
    "    'eval_metric': 'logloss',\n",
    "    'scale_pos_weight': ratio  # Utilizar el cociente como valor de scale_pos_weight\n",
    "}\n",
    "xgb = xgb.XGBClassifier(**xgb_params)\n",
    "classifier.append('XG Boost')\n",
    "imported_as.append('xgb')\n",
    "\n",
    "# Logistic Regression\n",
    "from sklearn.linear_model import LogisticRegression\n",
    "lr = LogisticRegression()\n",
    "classifier.append('Logistic Regression')\n",
    "imported_as.append('lr')\n",
    "\n",
    "#RFC\n",
    "from sklearn.ensemble import RandomForestClassifier\n",
    "rfc = RandomForestClassifier()\n",
    "classifier.append('Random Forest')\n",
    "imported_as.append('rfc')\n",
    "\n",
    "#KNN\n",
    "from sklearn.neighbors import KNeighborsClassifier\n",
    "knn = KNeighborsClassifier(n_neighbors=1)\n",
    "classifier.append('k Nearest Neighbours')\n",
    "imported_as.append('knn')\n",
    "\n",
    "#SVM\n",
    "from sklearn.svm import SVC\n",
    "svc = SVC()\n",
    "classifier.append('Support Vector Machine')\n",
    "imported_as.append('svc')\n",
    "\n",
    "classifiers = pd.DataFrame({'Classifier':classifier,'Imported as':imported_as})\n",
    "print('All Models Imported\\nModels stored in dataframe called classifiers')"
   ]
  },
  {
   "cell_type": "code",
   "execution_count": 5,
   "metadata": {},
   "outputs": [],
   "source": [
    "class Modelling:\n",
    "    def __init__(self, X_train, Y_train, X_test, Y_test, models):\n",
    "        self.X_train = X_train\n",
    "        self.X_test = X_test\n",
    "        self.Y_train = Y_train\n",
    "        self.Y_test = Y_test\n",
    "        self.models = models\n",
    "    \n",
    "    def fit(self):\n",
    "        model_acc = []\n",
    "        model_f1 = []\n",
    "        model_recall = []\n",
    "        model_precision = []\n",
    "        model_fn = []\n",
    "        model_fp = []\n",
    "        model_time= []\n",
    "\n",
    "        for i in self.models:\n",
    "            start=time.time()\n",
    "            if i == 'knn':\n",
    "                accuracy = []\n",
    "                for j in range(1,200):    \n",
    "                    kn = KNeighborsClassifier(n_neighbors=j)\n",
    "                    kn.fit(self.X_train,self.Y_train)\n",
    "                    predK = kn.predict(self.X_test)\n",
    "                    accuracy.append([accuracy_score(self.Y_test,predK),j])\n",
    "                temp = accuracy[0]\n",
    "                for m in accuracy:\n",
    "                    if temp[0] < m[0]:\n",
    "                        temp=m\n",
    "                i = KNeighborsClassifier(n_neighbors=temp[1])\n",
    "            i.fit(self.X_train,self.Y_train)\n",
    "            y_pred = i.predict(self.X_test)\n",
    "            model_acc.append(accuracy_score(self.Y_test, y_pred))\n",
    "            model_f1.append(f1_score(self.Y_test, y_pred))\n",
    "            model_recall.append(recall_score(self.Y_test, y_pred))\n",
    "            model_precision.append(precision_score(self.Y_test, y_pred))\n",
    "            \n",
    "            tn, fp, fn, tp = confusion_matrix(self.Y_test, y_pred).ravel()\n",
    "            model_fn.append(fn)\n",
    "            model_fp.append(fp)\n",
    "            \n",
    "            stop=time.time()\n",
    "            model_time.append((stop-start))\n",
    "            print(i,'has been fit')\n",
    "        self.models_output = pd.DataFrame({'Models':self.models,\n",
    "                                   'Accuracy': model_acc,\n",
    "                                   'F1-Score': model_f1,\n",
    "                                   'Recall': model_recall,\n",
    "                                   'Precision': model_precision,\n",
    "                                   'False Negatives': model_fn,\n",
    "                                   'False Positives': model_fp,\n",
    "                                   'Runtime (s)': model_time})\n",
    "\n",
    "        \n",
    "    def results(self):\n",
    "        models = self.models_output\n",
    "        models = models.sort_values(by=['Accuracy', 'Runtime (s)'], ascending=[False, True]).reset_index().drop('index', axis=1)\n",
    "        self.best = models['Models'][0]\n",
    "        models['Models'] = models['Models'].astype(str).str.split(\"(\", n=2, expand=True)[0]\n",
    "        models['Accuracy'] = models['Accuracy'].round(5) * 100\n",
    "        models['F1-Score'] = models['F1-Score'].round(5) * 100\n",
    "        models['Recall'] = models['Recall'].round(5) * 100\n",
    "        models['Precision'] = models['Precision'].round(5) * 100\n",
    "        models['Maintenance_Cost'] = models['False Negatives'] * 500 + models['False Positives'] * 10\n",
    "        self.models_output_cleaned = models\n",
    "        return models\n",
    "\n",
    "        \n",
    "    def best_model(self,type):\n",
    "        if type=='model':\n",
    "            return(self.best)\n",
    "        elif type=='name':\n",
    "            return(self.models_output_cleaned['Models'][0])\n",
    "    \n",
    "    def best_model_accuracy(self):\n",
    "        return(self.models_output_cleaned['Accuracy'][0])\n",
    "    \n",
    "    def best_model_runtime(self):\n",
    "        return(round(self.models_output_cleaned['Runtime (s)'][0],3))\n",
    "    \n",
    "    def best_model_predict(self,X_test):\n",
    "        return(self.best.predict(X_test))\n",
    "    \n",
    "    def best_model_clmatrix(self):\n",
    "        return(classification_report(self.Y_test,self.best.predict(self.X_test)))"
   ]
  },
  {
   "cell_type": "code",
   "execution_count": 6,
   "metadata": {},
   "outputs": [
    {
     "data": {
      "text/html": [
       "<div>\n",
       "<style scoped>\n",
       "    .dataframe tbody tr th:only-of-type {\n",
       "        vertical-align: middle;\n",
       "    }\n",
       "\n",
       "    .dataframe tbody tr th {\n",
       "        vertical-align: top;\n",
       "    }\n",
       "\n",
       "    .dataframe thead th {\n",
       "        text-align: right;\n",
       "    }\n",
       "</style>\n",
       "<table border=\"1\" class=\"dataframe\">\n",
       "  <thead>\n",
       "    <tr style=\"text-align: right;\">\n",
       "      <th></th>\n",
       "      <th>Classifier</th>\n",
       "      <th>Imported as</th>\n",
       "    </tr>\n",
       "  </thead>\n",
       "  <tbody>\n",
       "    <tr>\n",
       "      <th>0</th>\n",
       "      <td>Ada Boost</td>\n",
       "      <td>ada</td>\n",
       "    </tr>\n",
       "    <tr>\n",
       "      <th>1</th>\n",
       "      <td>XG Boost</td>\n",
       "      <td>xgb</td>\n",
       "    </tr>\n",
       "    <tr>\n",
       "      <th>2</th>\n",
       "      <td>Logistic Regression</td>\n",
       "      <td>lr</td>\n",
       "    </tr>\n",
       "    <tr>\n",
       "      <th>3</th>\n",
       "      <td>Random Forest</td>\n",
       "      <td>rfc</td>\n",
       "    </tr>\n",
       "    <tr>\n",
       "      <th>4</th>\n",
       "      <td>k Nearest Neighbours</td>\n",
       "      <td>knn</td>\n",
       "    </tr>\n",
       "    <tr>\n",
       "      <th>5</th>\n",
       "      <td>Support Vector Machine</td>\n",
       "      <td>svc</td>\n",
       "    </tr>\n",
       "  </tbody>\n",
       "</table>\n",
       "</div>"
      ],
      "text/plain": [
       "               Classifier Imported as\n",
       "0               Ada Boost         ada\n",
       "1                XG Boost         xgb\n",
       "2     Logistic Regression          lr\n",
       "3           Random Forest         rfc\n",
       "4    k Nearest Neighbours         knn\n",
       "5  Support Vector Machine         svc"
      ]
     },
     "metadata": {},
     "output_type": "display_data"
    }
   ],
   "source": [
    "display(classifiers)"
   ]
  },
  {
   "cell_type": "code",
   "execution_count": 7,
   "metadata": {},
   "outputs": [],
   "source": [
    "models_to_test = [ada,xgb,rfc,lr,knn,svc]"
   ]
  },
  {
   "cell_type": "code",
   "execution_count": 8,
   "metadata": {},
   "outputs": [
    {
     "name": "stdout",
     "output_type": "stream",
     "text": [
      "<class 'pandas.core.frame.DataFrame'>\n",
      "RangeIndex: 60000 entries, 0 to 59999\n",
      "Columns: 162 entries, aa_000 to eg_000\n",
      "dtypes: float64(162)\n",
      "memory usage: 74.2 MB\n"
     ]
    }
   ],
   "source": [
    "X_train.info()"
   ]
  },
  {
   "cell_type": "code",
   "execution_count": 9,
   "metadata": {},
   "outputs": [
    {
     "name": "stdout",
     "output_type": "stream",
     "text": [
      "AdaBoostClassifier() has been fit\n",
      "XGBClassifier(base_score=None, booster=None, callbacks=None,\n",
      "              colsample_bylevel=None, colsample_bynode=None, colsample_bytree=1,\n",
      "              early_stopping_rounds=None, enable_categorical=False,\n",
      "              eval_metric='logloss', feature_types=None, gamma=None,\n",
      "              gpu_id=None, grow_policy=None, importance_type=None,\n",
      "              interaction_constraints=None, learning_rate=0.05, max_bin=None,\n",
      "              max_cat_threshold=None, max_cat_to_onehot=None,\n",
      "              max_delta_step=None, max_depth=6, max_leaves=None,\n",
      "              min_child_weight=None, missing=nan, monotone_constraints=None,\n",
      "              n_estimators=398, n_jobs=None, num_parallel_tree=None,\n",
      "              predictor=None, random_state=None, ...) has been fit\n",
      "RandomForestClassifier() has been fit\n",
      "LogisticRegression() has been fit\n",
      "KNeighborsClassifier(n_neighbors=1) has been fit\n",
      "SVC() has been fit\n"
     ]
    }
   ],
   "source": [
    "classification = Modelling(X_train,y_train,X_test,y_test,models_to_test)\n",
    "classification.fit()"
   ]
  },
  {
   "cell_type": "code",
   "execution_count": 10,
   "metadata": {},
   "outputs": [
    {
     "data": {
      "text/html": [
       "<div>\n",
       "<style scoped>\n",
       "    .dataframe tbody tr th:only-of-type {\n",
       "        vertical-align: middle;\n",
       "    }\n",
       "\n",
       "    .dataframe tbody tr th {\n",
       "        vertical-align: top;\n",
       "    }\n",
       "\n",
       "    .dataframe thead th {\n",
       "        text-align: right;\n",
       "    }\n",
       "</style>\n",
       "<table border=\"1\" class=\"dataframe\">\n",
       "  <thead>\n",
       "    <tr style=\"text-align: right;\">\n",
       "      <th></th>\n",
       "      <th>Models</th>\n",
       "      <th>Accuracy</th>\n",
       "      <th>F1-Score</th>\n",
       "      <th>Recall</th>\n",
       "      <th>Precision</th>\n",
       "      <th>False Negatives</th>\n",
       "      <th>False Positives</th>\n",
       "      <th>Runtime (s)</th>\n",
       "      <th>Maintenance_Cost</th>\n",
       "    </tr>\n",
       "  </thead>\n",
       "  <tbody>\n",
       "    <tr>\n",
       "      <th>0</th>\n",
       "      <td>XGBClassifier</td>\n",
       "      <td>99.275</td>\n",
       "      <td>84.574</td>\n",
       "      <td>84.800</td>\n",
       "      <td>84.350</td>\n",
       "      <td>57</td>\n",
       "      <td>59</td>\n",
       "      <td>42.862600</td>\n",
       "      <td>29090</td>\n",
       "    </tr>\n",
       "    <tr>\n",
       "      <th>1</th>\n",
       "      <td>RandomForestClassifier</td>\n",
       "      <td>99.219</td>\n",
       "      <td>81.089</td>\n",
       "      <td>71.467</td>\n",
       "      <td>93.706</td>\n",
       "      <td>107</td>\n",
       "      <td>18</td>\n",
       "      <td>58.435436</td>\n",
       "      <td>53680</td>\n",
       "    </tr>\n",
       "    <tr>\n",
       "      <th>2</th>\n",
       "      <td>SVC</td>\n",
       "      <td>98.956</td>\n",
       "      <td>74.028</td>\n",
       "      <td>63.467</td>\n",
       "      <td>88.806</td>\n",
       "      <td>137</td>\n",
       "      <td>30</td>\n",
       "      <td>26.491648</td>\n",
       "      <td>68800</td>\n",
       "    </tr>\n",
       "    <tr>\n",
       "      <th>3</th>\n",
       "      <td>AdaBoostClassifier</td>\n",
       "      <td>98.862</td>\n",
       "      <td>73.851</td>\n",
       "      <td>68.533</td>\n",
       "      <td>80.062</td>\n",
       "      <td>118</td>\n",
       "      <td>64</td>\n",
       "      <td>36.391243</td>\n",
       "      <td>59640</td>\n",
       "    </tr>\n",
       "    <tr>\n",
       "      <th>4</th>\n",
       "      <td>LogisticRegression</td>\n",
       "      <td>98.631</td>\n",
       "      <td>64.734</td>\n",
       "      <td>53.600</td>\n",
       "      <td>81.707</td>\n",
       "      <td>174</td>\n",
       "      <td>45</td>\n",
       "      <td>1.365360</td>\n",
       "      <td>87450</td>\n",
       "    </tr>\n",
       "    <tr>\n",
       "      <th>5</th>\n",
       "      <td>KNeighborsClassifier</td>\n",
       "      <td>98.550</td>\n",
       "      <td>64.955</td>\n",
       "      <td>57.333</td>\n",
       "      <td>74.913</td>\n",
       "      <td>160</td>\n",
       "      <td>72</td>\n",
       "      <td>12.928891</td>\n",
       "      <td>80720</td>\n",
       "    </tr>\n",
       "  </tbody>\n",
       "</table>\n",
       "</div>"
      ],
      "text/plain": [
       "                   Models  Accuracy  F1-Score  Recall  Precision  \\\n",
       "0           XGBClassifier    99.275    84.574  84.800     84.350   \n",
       "1  RandomForestClassifier    99.219    81.089  71.467     93.706   \n",
       "2                     SVC    98.956    74.028  63.467     88.806   \n",
       "3      AdaBoostClassifier    98.862    73.851  68.533     80.062   \n",
       "4      LogisticRegression    98.631    64.734  53.600     81.707   \n",
       "5    KNeighborsClassifier    98.550    64.955  57.333     74.913   \n",
       "\n",
       "   False Negatives  False Positives  Runtime (s)  Maintenance_Cost  \n",
       "0               57               59    42.862600             29090  \n",
       "1              107               18    58.435436             53680  \n",
       "2              137               30    26.491648             68800  \n",
       "3              118               64    36.391243             59640  \n",
       "4              174               45     1.365360             87450  \n",
       "5              160               72    12.928891             80720  "
      ]
     },
     "execution_count": 10,
     "metadata": {},
     "output_type": "execute_result"
    }
   ],
   "source": [
    "classification.results()"
   ]
  },
  {
   "cell_type": "code",
   "execution_count": 21,
   "metadata": {},
   "outputs": [],
   "source": [
    "header = classification.results()\n",
    "\n",
    "# Guardar el encabezado como un archivo XLSX\n",
    "header.to_excel('classification_results.xlsx', index=False)"
   ]
  },
  {
   "cell_type": "code",
   "execution_count": 11,
   "metadata": {},
   "outputs": [
    {
     "name": "stdout",
     "output_type": "stream",
     "text": [
      "BestModel is: XGBClassifier\n",
      "Accuracy of model: 99.275\n",
      "Training Runtime in seconds 42.863\n",
      "Classification Matrix:\n",
      "\n",
      "              precision    recall  f1-score   support\n",
      "\n",
      "         0.0       1.00      1.00      1.00     15625\n",
      "         1.0       0.84      0.85      0.85       375\n",
      "\n",
      "    accuracy                           0.99     16000\n",
      "   macro avg       0.92      0.92      0.92     16000\n",
      "weighted avg       0.99      0.99      0.99     16000\n",
      "\n"
     ]
    }
   ],
   "source": [
    "print('BestModel is:',  classification.best_model(type='name'))\n",
    "print('Accuracy of model:',classification.best_model_accuracy())\n",
    "print('Training Runtime in seconds',classification.best_model_runtime())\n",
    "print('Classification Matrix:\\n')\n",
    "print(classification.best_model_clmatrix())"
   ]
  },
  {
   "cell_type": "code",
   "execution_count": 12,
   "metadata": {},
   "outputs": [
    {
     "name": "stderr",
     "output_type": "stream",
     "text": [
      "c:\\Users\\diego\\anaconda3\\lib\\site-packages\\sklearn\\utils\\deprecation.py:87: FutureWarning: Function plot_confusion_matrix is deprecated; Function `plot_confusion_matrix` is deprecated in 1.0 and will be removed in 1.2. Use one of the class methods: ConfusionMatrixDisplay.from_predictions or ConfusionMatrixDisplay.from_estimator.\n",
      "  warnings.warn(msg, category=FutureWarning)\n"
     ]
    },
    {
     "data": {
      "text/plain": [
       "<sklearn.metrics._plot.confusion_matrix.ConfusionMatrixDisplay at 0x2a804cb6ac0>"
      ]
     },
     "execution_count": 12,
     "metadata": {},
     "output_type": "execute_result"
    },
    {
     "data": {
      "image/png": "[encoded data removed]",
      "text/plain": [
       "<Figure size 432x288 with 2 Axes>"
      ]
     },
     "metadata": {},
     "output_type": "display_data"
    }
   ],
   "source": [
    "sns.set_style(\"darkgrid\", {\"grid.color\": \"1\", \"grid.linestyle\": \" \"})\n",
    "\n",
    "from sklearn.metrics import plot_confusion_matrix\n",
    "plot_confusion_matrix(classification.best_model(type='model'), X_test, y_test) "
   ]
  },
  {
   "cell_type": "code",
   "execution_count": 16,
   "metadata": {},
   "outputs": [],
   "source": [
    "from sklearn.metrics import confusion_matrix, classification_report\n",
    "\n",
    "# Crear listas para almacenar las matrices de confusión y las tablas de resultados\n",
    "confusion_matrices = []\n",
    "classification_reports = []\n",
    "\n",
    "for model in models_to_test:\n",
    "    # Entrenar el modelo en el conjunto de entrenamiento\n",
    "    model.fit(X_train, y_train)\n",
    "    \n",
    "    # Predecir en el conjunto de prueba\n",
    "    y_pred = model.predict(X_test)\n",
    "    \n",
    "    # Calcular la matriz de confusión\n",
    "    confusion = confusion_matrix(y_test, y_pred)\n",
    "    \n",
    "    # Calcular el informe de clasificación\n",
    "    report = classification_report(y_test, y_pred)\n",
    "    \n",
    "    # Agregar la matriz de confusión y el informe de clasificación a las listas\n",
    "    confusion_matrices.append(confusion)\n",
    "    classification_reports.append(report)\n",
    "\n",
    "# Ahora, confusion_matrices y classification_reports contienen las matrices de confusión\n",
    "# y los informes de clasificación para cada modelo en models_to_test\n"
   ]
  },
  {
   "cell_type": "code",
   "execution_count": 20,
   "metadata": {},
   "outputs": [
    {
     "name": "stdout",
     "output_type": "stream",
     "text": [
      "Matriz de Confusión para el Modelo AdaBoostClassifier:\n"
     ]
    },
    {
     "name": "stderr",
     "output_type": "stream",
     "text": [
      "c:\\Users\\diego\\anaconda3\\lib\\site-packages\\sklearn\\utils\\deprecation.py:87: FutureWarning: Function plot_confusion_matrix is deprecated; Function `plot_confusion_matrix` is deprecated in 1.0 and will be removed in 1.2. Use one of the class methods: ConfusionMatrixDisplay.from_predictions or ConfusionMatrixDisplay.from_estimator.\n",
      "  warnings.warn(msg, category=FutureWarning)\n"
     ]
    },
    {
     "data": {
      "image/png": "[encoded data removed]",
      "text/plain": [
       "<Figure size 432x288 with 2 Axes>"
      ]
     },
     "metadata": {},
     "output_type": "display_data"
    },
    {
     "name": "stdout",
     "output_type": "stream",
     "text": [
      "Matriz de Confusión para el Modelo XGBClassifier:\n"
     ]
    },
    {
     "name": "stderr",
     "output_type": "stream",
     "text": [
      "c:\\Users\\diego\\anaconda3\\lib\\site-packages\\sklearn\\utils\\deprecation.py:87: FutureWarning: Function plot_confusion_matrix is deprecated; Function `plot_confusion_matrix` is deprecated in 1.0 and will be removed in 1.2. Use one of the class methods: ConfusionMatrixDisplay.from_predictions or ConfusionMatrixDisplay.from_estimator.\n",
      "  warnings.warn(msg, category=FutureWarning)\n"
     ]
    },
    {
     "data": {
      "image/png": "[encoded data removed]",
      "text/plain": [
       "<Figure size 432x288 with 2 Axes>"
      ]
     },
     "metadata": {},
     "output_type": "display_data"
    },
    {
     "name": "stdout",
     "output_type": "stream",
     "text": [
      "Matriz de Confusión para el Modelo RandomForestClassifier:\n"
     ]
    },
    {
     "name": "stderr",
     "output_type": "stream",
     "text": [
      "c:\\Users\\diego\\anaconda3\\lib\\site-packages\\sklearn\\utils\\deprecation.py:87: FutureWarning: Function plot_confusion_matrix is deprecated; Function `plot_confusion_matrix` is deprecated in 1.0 and will be removed in 1.2. Use one of the class methods: ConfusionMatrixDisplay.from_predictions or ConfusionMatrixDisplay.from_estimator.\n",
      "  warnings.warn(msg, category=FutureWarning)\n"
     ]
    },
    {
     "data": {
      "image/png": "[encoded data removed]",
      "text/plain": [
       "<Figure size 432x288 with 2 Axes>"
      ]
     },
     "metadata": {},
     "output_type": "display_data"
    },
    {
     "name": "stdout",
     "output_type": "stream",
     "text": [
      "Matriz de Confusión para el Modelo LogisticRegression:\n"
     ]
    },
    {
     "name": "stderr",
     "output_type": "stream",
     "text": [
      "c:\\Users\\diego\\anaconda3\\lib\\site-packages\\sklearn\\utils\\deprecation.py:87: FutureWarning: Function plot_confusion_matrix is deprecated; Function `plot_confusion_matrix` is deprecated in 1.0 and will be removed in 1.2. Use one of the class methods: ConfusionMatrixDisplay.from_predictions or ConfusionMatrixDisplay.from_estimator.\n",
      "  warnings.warn(msg, category=FutureWarning)\n"
     ]
    },
    {
     "data": {
      "image/png": "[encoded data removed]",
      "text/plain": [
       "<Figure size 432x288 with 2 Axes>"
      ]
     },
     "metadata": {},
     "output_type": "display_data"
    },
    {
     "name": "stdout",
     "output_type": "stream",
     "text": [
      "Matriz de Confusión para el Modelo KNeighborsClassifier:\n"
     ]
    },
    {
     "name": "stderr",
     "output_type": "stream",
     "text": [
      "c:\\Users\\diego\\anaconda3\\lib\\site-packages\\sklearn\\utils\\deprecation.py:87: FutureWarning: Function plot_confusion_matrix is deprecated; Function `plot_confusion_matrix` is deprecated in 1.0 and will be removed in 1.2. Use one of the class methods: ConfusionMatrixDisplay.from_predictions or ConfusionMatrixDisplay.from_estimator.\n",
      "  warnings.warn(msg, category=FutureWarning)\n"
     ]
    },
    {
     "data": {
      "image/png": "[encoded data removed]",
      "text/plain": [
       "<Figure size 432x288 with 2 Axes>"
      ]
     },
     "metadata": {},
     "output_type": "display_data"
    },
    {
     "name": "stdout",
     "output_type": "stream",
     "text": [
      "Matriz de Confusión para el Modelo SVC:\n"
     ]
    },
    {
     "name": "stderr",
     "output_type": "stream",
     "text": [
      "c:\\Users\\diego\\anaconda3\\lib\\site-packages\\sklearn\\utils\\deprecation.py:87: FutureWarning: Function plot_confusion_matrix is deprecated; Function `plot_confusion_matrix` is deprecated in 1.0 and will be removed in 1.2. Use one of the class methods: ConfusionMatrixDisplay.from_predictions or ConfusionMatrixDisplay.from_estimator.\n",
      "  warnings.warn(msg, category=FutureWarning)\n"
     ]
    },
    {
     "data": {
      "image/png": "[encoded data removed]",
      "text/plain": [
       "<Figure size 432x288 with 2 Axes>"
      ]
     },
     "metadata": {},
     "output_type": "display_data"
    }
   ],
   "source": [
    "from sklearn.metrics import plot_confusion_matrix\n",
    "\n",
    "# Visualizar matrices de confusión para cada modelo\n",
    "for model in models_to_test:\n",
    "    model_name = type(model).__name__  # Obtiene el nombre del modelo\n",
    "    print(f\"Matriz de Confusión para el Modelo {model_name}:\")\n",
    "    disp = plot_confusion_matrix(model, X_test, y_test)\n",
    "    disp.figure_.suptitle(f'Matriz de Confusión para el Modelo {model_name}')\n",
    "    plt.show()\n"
   ]
  }
 ],
 "metadata": {
  "kernelspec": {
   "display_name": "base",
   "language": "python",
   "name": "python3"
  },
  "language_info": {
   "codemirror_mode": {
    "name": "ipython",
    "version": 3
   },
   "file_extension": ".py",
   "mimetype": "text/x-python",
   "name": "python",
   "nbconvert_exporter": "python",
   "pygments_lexer": "ipython3",
   "version": "3.9.12"
  },
  "orig_nbformat": 4
 },
 "nbformat": 4,
 "nbformat_minor": 2
}
